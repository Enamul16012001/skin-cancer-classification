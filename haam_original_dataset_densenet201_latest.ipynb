{
  "cells": [
    {
      "cell_type": "code",
      "execution_count": 1,
      "metadata": {
        "execution": {
          "iopub.execute_input": "2024-10-25T13:13:02.723475Z",
          "iopub.status.busy": "2024-10-25T13:13:02.722858Z",
          "iopub.status.idle": "2024-10-25T13:13:09.415271Z",
          "shell.execute_reply": "2024-10-25T13:13:09.414434Z",
          "shell.execute_reply.started": "2024-10-25T13:13:02.723440Z"
        },
        "id": "u_DPdAVYIqpI",
        "trusted": true
      },
      "outputs": [],
      "source": [
        "import numpy as np\n",
        "import pandas as pd\n",
        "import matplotlib.pyplot as plt\n",
        "from pathlib import Path\n",
        "import os\n",
        "import torch\n",
        "import torchvision\n",
        "from torch.utils.data import DataLoader\n",
        "from torchvision import datasets, transforms\n",
        "from torch import nn\n",
        "from sklearn.model_selection import train_test_split\n",
        "from torch.utils.data import Subset, DataLoader\n",
        "from collections import Counter\n",
        "import shutil\n",
        "import cv2\n",
        "from PIL import Image\n",
        "import glob\n",
        "from tqdm import tqdm\n",
        "from timeit import default_timer as timer\n",
        "import random"
      ]
    },
    {
      "cell_type": "code",
      "execution_count": 2,
      "metadata": {
        "colab": {
          "base_uri": "https://localhost:8080/",
          "height": 35
        },
        "execution": {
          "iopub.execute_input": "2024-10-25T13:13:09.417233Z",
          "iopub.status.busy": "2024-10-25T13:13:09.416781Z",
          "iopub.status.idle": "2024-10-25T13:13:09.459784Z",
          "shell.execute_reply": "2024-10-25T13:13:09.458655Z",
          "shell.execute_reply.started": "2024-10-25T13:13:09.417197Z"
        },
        "id": "BPY921jPFe-P",
        "outputId": "25590b7c-3b08-4e6e-ab7c-3c544ca93dc2",
        "trusted": true
      },
      "outputs": [
        {
          "data": {
            "text/plain": [
              "'cpu'"
            ]
          },
          "execution_count": 2,
          "metadata": {},
          "output_type": "execute_result"
        }
      ],
      "source": [
        "def set_seeds(seed: int=42):\n",
        "    torch.manual_seed(seed)\n",
        "    torch.cuda.manual_seed(seed)\n",
        "\n",
        "NUM_WORKERS = os.cpu_count()\n",
        "\n",
        "image_size = (224, 224)\n",
        "height, width = image_size\n",
        "batch_size = 16\n",
        "\n",
        "device = \"cuda\" if torch.cuda.is_available() else \"cpu\"\n",
        "device"
      ]
    },
    {
      "cell_type": "code",
      "execution_count": 3,
      "metadata": {
        "colab": {
          "base_uri": "https://localhost:8080/"
        },
        "execution": {
          "iopub.execute_input": "2024-10-25T13:13:09.461484Z",
          "iopub.status.busy": "2024-10-25T13:13:09.461157Z",
          "iopub.status.idle": "2024-10-25T13:14:38.064503Z",
          "shell.execute_reply": "2024-10-25T13:14:38.063514Z",
          "shell.execute_reply.started": "2024-10-25T13:13:09.461450Z"
        },
        "id": "XKsbs-AnlLmn",
        "outputId": "17bd2826-fe0d-4b34-cbc8-4070055c7171",
        "trusted": true
      },
      "outputs": [
        {
          "name": "stdout",
          "output_type": "stream",
          "text": [
            "Images merged successfully!\n"
          ]
        }
      ],
      "source": [
        "import os\n",
        "import shutil\n",
        "\n",
        "def merge_folders(folder1, folder2, destination_folder):\n",
        "\n",
        "    if not os.path.exists(destination_folder):\n",
        "        os.makedirs(destination_folder)\n",
        "\n",
        "    for filename in os.listdir(folder1):\n",
        "        source_path = os.path.join(folder1, filename)\n",
        "        destination_path = os.path.join(destination_folder, filename)\n",
        "        shutil.copy2(source_path, destination_path)\n",
        "\n",
        "    for filename in os.listdir(folder2):\n",
        "        source_path = os.path.join(folder2, filename)\n",
        "        destination_path = os.path.join(destination_folder, filename)\n",
        "\n",
        "        if os.path.exists(destination_path):\n",
        "            base, extension = os.path.splitext(filename)\n",
        "            new_filename = f\"{base}_copy{extension}\"\n",
        "            destination_path = os.path.join(destination_folder, new_filename)\n",
        "\n",
        "        shutil.copy2(source_path, destination_path)\n",
        "\n",
        "folder1 = './Dataset/HAM10000_images_part_1'\n",
        "folder2 = './Dataset/HAM10000_images_part_2'\n",
        "destination_folder = './Dataset/train_image'\n",
        "\n",
        "merge_folders(folder1, folder2, destination_folder)\n",
        "\n",
        "print(\"Images merged successfully!\")\n"
      ]
    },
    {
      "cell_type": "code",
      "execution_count": 4,
      "metadata": {
        "colab": {
          "base_uri": "https://localhost:8080/"
        },
        "execution": {
          "iopub.execute_input": "2024-10-25T13:14:38.067012Z",
          "iopub.status.busy": "2024-10-25T13:14:38.066693Z",
          "iopub.status.idle": "2024-10-25T13:14:41.657798Z",
          "shell.execute_reply": "2024-10-25T13:14:41.656512Z",
          "shell.execute_reply.started": "2024-10-25T13:14:38.066977Z"
        },
        "id": "SzSGozjllLmp",
        "outputId": "53c471eb-781f-4d04-ed8f-d16ec9a5cce3",
        "trusted": true
      },
      "outputs": [
        {
          "name": "stdout",
          "output_type": "stream",
          "text": [
            "Dataset organized into train and test subfolders successfully!\n"
          ]
        }
      ],
      "source": [
        "import os\n",
        "import shutil\n",
        "import pandas as pd\n",
        "from sklearn.model_selection import train_test_split\n",
        "\n",
        "image_folder = './Dataset/train_image'\n",
        "csv_file = './Dataset/HAM10000_metadata.csv'\n",
        "metadata = pd.read_csv(csv_file)\n",
        "\n",
        "train_dir = './Dataset/train'\n",
        "test_dir = './Dataset/test'\n",
        "\n",
        "if not os.path.exists(train_dir):\n",
        "    os.makedirs(train_dir)\n",
        "if not os.path.exists(test_dir):\n",
        "    os.makedirs(test_dir)\n",
        "\n",
        "classes = metadata['dx'].unique()\n",
        "\n",
        "for class_name in classes:\n",
        "    class_train_dir = os.path.join(train_dir, class_name)\n",
        "    class_test_dir = os.path.join(test_dir, class_name)\n",
        "    if not os.path.exists(class_train_dir):\n",
        "        os.makedirs(class_train_dir)\n",
        "    if not os.path.exists(class_test_dir):\n",
        "        os.makedirs(class_test_dir)\n",
        "\n",
        "def find_image_file(image_id):\n",
        "    image_file = image_id + '.jpg'\n",
        "    if os.path.exists(os.path.join(image_folder, image_file)):\n",
        "        return os.path.join(image_folder, image_file)\n",
        "    else:\n",
        "        return None\n",
        "\n",
        "for class_name in classes:\n",
        "    class_images = metadata[metadata['dx'] == class_name]['image_id'].tolist()\n",
        "    train_images, test_images = train_test_split(class_images, test_size=0.2, random_state=42)\n",
        "\n",
        "    for image_id in train_images:\n",
        "        source_file = find_image_file(image_id)\n",
        "        if source_file:\n",
        "            shutil.copy(source_file, os.path.join(train_dir, class_name, os.path.basename(source_file)))\n",
        "\n",
        "    for image_id in test_images:\n",
        "        source_file = find_image_file(image_id)\n",
        "        if source_file:\n",
        "            shutil.copy(source_file, os.path.join(test_dir, class_name, os.path.basename(source_file)))\n",
        "\n",
        "print(\"Dataset organized into train and test subfolders successfully!\")"
      ]
    },
    {
      "cell_type": "code",
      "execution_count": 5,
      "metadata": {
        "execution": {
          "iopub.execute_input": "2024-10-25T13:14:41.670401Z",
          "iopub.status.busy": "2024-10-25T13:14:41.669939Z",
          "iopub.status.idle": "2024-10-25T13:14:52.012548Z",
          "shell.execute_reply": "2024-10-25T13:14:52.011554Z",
          "shell.execute_reply.started": "2024-10-25T13:14:41.670344Z"
        },
        "id": "gIBEDAoSNJgf",
        "trusted": true
      },
      "outputs": [],
      "source": [
        "def balance_dataset(subset):\n",
        "    # Access the dataset and targets from the Subset object\n",
        "    dataset = subset.dataset\n",
        "    subset_indices = subset.indices\n",
        "    subset_targets = [dataset.targets[i] for i in subset_indices]\n",
        "\n",
        "    # Count the instances per class\n",
        "    class_counts = Counter(subset_targets)\n",
        "    print(class_counts)\n",
        "\n",
        "    balanced_indices = []\n",
        "    for class_index, count in class_counts.items():\n",
        "        # Determine the required number of images based on the given rules\n",
        "        if count >= 1000:\n",
        "            required_images = 3000\n",
        "        elif 500 < count < 1000:\n",
        "            required_images = 2500\n",
        "        else:\n",
        "            required_images = 2000\n",
        "\n",
        "        # Collect indices of the current class\n",
        "        class_indices = [subset_indices[i] for i, label in enumerate(subset_targets) if label == class_index]\n",
        "\n",
        "        # Balance the class to the required number of images\n",
        "        if count < required_images:\n",
        "            additional_indices = np.random.choice(class_indices, required_images - count, replace=True)\n",
        "            class_indices.extend(additional_indices)\n",
        "        elif count > required_images:\n",
        "            class_indices = np.random.choice(class_indices, required_images, replace=False).tolist()\n",
        "\n",
        "        balanced_indices.extend(class_indices)\n",
        "\n",
        "    return Subset(dataset, balanced_indices)\n"
      ]
    },
    {
      "cell_type": "code",
      "execution_count": 6,
      "metadata": {
        "colab": {
          "base_uri": "https://localhost:8080/"
        },
        "execution": {
          "iopub.execute_input": "2024-10-25T13:14:52.014469Z",
          "iopub.status.busy": "2024-10-25T13:14:52.014073Z",
          "iopub.status.idle": "2024-10-25T13:14:53.650859Z",
          "shell.execute_reply": "2024-10-25T13:14:53.649870Z",
          "shell.execute_reply.started": "2024-10-25T13:14:52.014425Z"
        },
        "id": "2EVil6IdIqpO",
        "outputId": "2dab0128-662e-4f53-b146-2fc216c17a20",
        "trusted": true
      },
      "outputs": [
        {
          "name": "stdout",
          "output_type": "stream",
          "text": [
            "Counter({5: 4836, 4: 805, 2: 781, 1: 372, 0: 230, 6: 101, 3: 84})\n"
          ]
        },
        {
          "data": {
            "text/plain": [
              "(<torch.utils.data.dataloader.DataLoader at 0x7cb8a9dd72b0>,\n",
              " <torch.utils.data.dataloader.DataLoader at 0x7cb8a9dd60e0>,\n",
              " <torch.utils.data.dataloader.DataLoader at 0x7cb8a9dd7280>,\n",
              " ['akiec', 'bcc', 'bkl', 'df', 'mel', 'nv', 'vasc'])"
            ]
          },
          "execution_count": 6,
          "metadata": {},
          "output_type": "execute_result"
        }
      ],
      "source": [
        "def create_dataloaders(\n",
        "    train_dir: str,\n",
        "    test_dir: str,\n",
        "    train_transform: transforms.Compose,\n",
        "    test_transform: transforms.Compose,\n",
        "    batch_size: int,\n",
        "    num_workers: int=NUM_WORKERS\n",
        "):\n",
        "\n",
        "  full_train_data = datasets.ImageFolder(train_dir, transform=train_transform)\n",
        "  test_data = datasets.ImageFolder(test_dir, transform=test_transform)\n",
        "\n",
        "  train_indices, val_indices = train_test_split(list(range(len(full_train_data))), test_size=0.1, random_state=42)\n",
        "  imbalanced_train_data = Subset(full_train_data, train_indices)\n",
        "  val_data = Subset(full_train_data, val_indices)\n",
        "\n",
        "  # Balance the training data\n",
        "  train_data = balance_dataset(imbalanced_train_data)\n",
        "\n",
        "  # Get class names\n",
        "  class_names = full_train_data.classes\n",
        "\n",
        "  # Turn images into data loaders\n",
        "  train_dataloader = DataLoader(\n",
        "      train_data,\n",
        "      batch_size=batch_size,\n",
        "      shuffle=True,\n",
        "      num_workers=num_workers,\n",
        "      pin_memory=True,\n",
        "  )\n",
        "  val_dataloader = DataLoader(\n",
        "        val_data,\n",
        "        batch_size=batch_size,\n",
        "        shuffle=False,\n",
        "        num_workers=num_workers,\n",
        "        pin_memory=True,\n",
        "  )\n",
        "  test_dataloader = DataLoader(\n",
        "      test_data,\n",
        "      batch_size=batch_size,\n",
        "      shuffle=False, # don't need to shuffle test data\n",
        "      num_workers=num_workers,\n",
        "      pin_memory=True,\n",
        "  )\n",
        "\n",
        "  return train_dataloader, val_dataloader, test_dataloader, class_names\n",
        "\n",
        "\n",
        "test_transforms = transforms.Compose([\n",
        "    transforms.Resize(image_size),\n",
        "    transforms.ToTensor(),\n",
        "    transforms.Normalize(mean=[0.485, 0.456, 0.406],\n",
        "                         std=[0.229, 0.224, 0.225])\n",
        "                          # 4. A standard deviation of [0.229, 0.224, 0.225] (across each colour channel),\n",
        "])\n",
        "\n",
        "train_transforms = transforms.Compose([\n",
        "    transforms.Resize(image_size),\n",
        "    transforms.RandomHorizontalFlip(p=0.5),  # Flip with 50% probability\n",
        "    transforms.RandomRotation(degrees=(-15, 15)),  # Rotate between -15 and 15 degrees\n",
        "    # Add other transformations here (optional)\n",
        "    transforms.ToTensor(),  # Convert image to PyTorch tensor\n",
        "    transforms.Normalize(mean=[0.485, 0.456, 0.406],\n",
        "                         std=[0.229, 0.224, 0.225])\n",
        "])\n",
        "\n",
        "train_dataloader, val_dataloader, test_dataloader, class_names = create_dataloaders(train_dir=train_dir,\n",
        "                                                                    test_dir=test_dir,\n",
        "                                                                    train_transform=train_transforms,\n",
        "                                                                    test_transform=test_transforms,\n",
        "                                                                    batch_size=batch_size)\n",
        "\n",
        "train_dataloader,  val_dataloader,test_dataloader, class_names"
      ]
    },
    {
      "cell_type": "code",
      "execution_count": 7,
      "metadata": {
        "colab": {
          "base_uri": "https://localhost:8080/",
          "height": 615
        },
        "execution": {
          "iopub.execute_input": "2024-10-25T13:14:53.652384Z",
          "iopub.status.busy": "2024-10-25T13:14:53.652016Z",
          "iopub.status.idle": "2024-10-25T13:14:55.630829Z",
          "shell.execute_reply": "2024-10-25T13:14:55.629880Z",
          "shell.execute_reply.started": "2024-10-25T13:14:53.652351Z"
        },
        "id": "koj5E5p8fLif",
        "outputId": "30c46aae-5343-456f-a28d-8ee7640b5061",
        "trusted": true
      },
      "outputs": [
        {
          "name": "stdout",
          "output_type": "stream",
          "text": [
            "Class 5: 3000 images\n",
            "Class 0: 2000 images\n",
            "Class 4: 2500 images\n",
            "Class 2: 2500 images\n",
            "Class 1: 2000 images\n",
            "Class 6: 2000 images\n",
            "Class 3: 2000 images\n"
          ]
        },
        {
          "data": {
            "image/png": "[encoded data removed]",
            "text/plain": [
              "<Figure size 640x480 with 1 Axes>"
            ]
          },
          "metadata": {},
          "output_type": "display_data"
        }
      ],
      "source": [
        "from collections import Counter\n",
        "\n",
        "def count_classes(data_loader):\n",
        "    # Access the dataset from the dataloader\n",
        "    dataset = data_loader.dataset\n",
        "\n",
        "    # If the dataset is a Subset, access the underlying dataset\n",
        "    if isinstance(dataset, Subset):\n",
        "        dataset = dataset.dataset\n",
        "        indices = data_loader.dataset.indices\n",
        "        targets = [dataset.targets[i] for i in indices]\n",
        "    else:\n",
        "        targets = dataset.targets\n",
        "\n",
        "    # Count the occurrences of each class\n",
        "    class_counts = Counter(targets)\n",
        "\n",
        "    # Print the number of images in each class\n",
        "    for class_idx, count in class_counts.items():\n",
        "        print(f'Class {class_idx}: {count} images')\n",
        "\n",
        "    return class_counts\n",
        "\n",
        "# Example usage with train_dataloader\n",
        "class_counts = count_classes(train_dataloader)\n",
        "\n",
        "# Optionally, visualize the class distribution\n",
        "classes = [train_dataloader.dataset.dataset.classes[i] for i in class_counts.keys()]\n",
        "counts = list(class_counts.values())\n",
        "\n",
        "plt.bar(classes, counts)\n",
        "plt.xlabel('Classes')\n",
        "plt.ylabel('Number of images')\n",
        "plt.title('Class distribution in the training set')\n",
        "plt.xticks(rotation=90)\n",
        "plt.show()\n"
      ]
    },
    {
      "cell_type": "code",
      "execution_count": 8,
      "metadata": {
        "colab": {
          "base_uri": "https://localhost:8080/"
        },
        "execution": {
          "iopub.execute_input": "2024-10-25T13:15:08.288771Z",
          "iopub.status.busy": "2024-10-25T13:15:08.288395Z",
          "iopub.status.idle": "2024-10-25T13:15:23.458160Z",
          "shell.execute_reply": "2024-10-25T13:15:23.457260Z",
          "shell.execute_reply.started": "2024-10-25T13:15:08.288734Z"
        },
        "id": "05voKM_7FITl",
        "outputId": "fefc11c5-726f-46fa-f7b6-866d5ef2d81b",
        "trusted": true
      },
      "outputs": [
        {
          "name": "stdout",
          "output_type": "stream",
          "text": [
            "Downloading: \"https://download.pytorch.org/models/efficientnet_b3_rwightman-b3899882.pth\" to /home/enam/.cache/torch/hub/checkpoints/efficientnet_b3_rwightman-b3899882.pth\n"
          ]
        },
        {
          "name": "stderr",
          "output_type": "stream",
          "text": [
            "100%|██████████| 47.2M/47.2M [00:04<00:00, 11.3MB/s]\n"
          ]
        }
      ],
      "source": [
        "from torchvision import models\n",
        "\n",
        "# Load EfficientNet-B3 with pretrained ImageNet weights\n",
        "model = models.efficientnet_b3(weights=models.EfficientNet_B3_Weights.IMAGENET1K_V1)\n",
        "\n",
        "# Set all parameters to require gradients (for fine-tuning)\n",
        "for param in model.parameters():\n",
        "    param.requires_grad = True\n"
      ]
    },
    {
      "cell_type": "code",
      "execution_count": 9,
      "metadata": {
        "execution": {
          "iopub.execute_input": "2024-10-25T13:15:23.460293Z",
          "iopub.status.busy": "2024-10-25T13:15:23.459602Z",
          "iopub.status.idle": "2024-10-25T13:15:24.736270Z",
          "shell.execute_reply": "2024-10-25T13:15:24.735087Z",
          "shell.execute_reply.started": "2024-10-25T13:15:23.460247Z"
        },
        "id": "jFFdwCHf9SEX",
        "trusted": true
      },
      "outputs": [],
      "source": [
        "set_seeds()\n",
        "\n",
        "output_shape = len(class_names)\n",
        "\n",
        "#num_ftrs = model.fc.in_features\n",
        "num_ftrs = model.classifier[1].in_features\n",
        "\n",
        "# Recreate the classifier layer and seed it to the target device\n",
        "#model.fc = torch.nn.Sequential(\n",
        "model.classifier = torch.nn.Sequential(\n",
        "    #torch.nn.Dropout(p=0.2, inplace=True),\n",
        "    torch.nn.Linear(in_features=num_ftrs,\n",
        "                    out_features=512, # same number of output units as our number of classes\n",
        "                    bias=True),\n",
        "    torch.nn.ReLU(),\n",
        "    torch.nn.Linear(in_features=512,\n",
        "                    out_features=128, # same number of output units as our number of classes\n",
        "                    bias=True),\n",
        "    torch.nn.ReLU(),\n",
        "    torch.nn.Linear(in_features=128,\n",
        "                    out_features=output_shape, # same number of output units as our number of classes\n",
        "                    bias=True)).to(device)\n",
        "\n"
      ]
    },
    {
      "cell_type": "code",
      "execution_count": 10,
      "metadata": {
        "colab": {
          "base_uri": "https://localhost:8080/"
        },
        "id": "AG3Wbe-7NaG3",
        "outputId": "35ad2040-10bd-47b2-bea9-7827c4c47e3e"
      },
      "outputs": [
        {
          "data": {
            "text/plain": [
              "============================================================================================================================================\n",
              "Layer (type (var_name))                                      Input Shape          Output Shape         Param #              Trainable\n",
              "============================================================================================================================================\n",
              "EfficientNet (EfficientNet)                                  [16, 3, 224, 224]    [16, 7]              --                   True\n",
              "├─Sequential (features)                                      [16, 3, 224, 224]    [16, 1536, 7, 7]     --                   True\n",
              "│    └─Conv2dNormActivation (0)                              [16, 3, 224, 224]    [16, 40, 112, 112]   --                   True\n",
              "│    │    └─Conv2d (0)                                       [16, 3, 224, 224]    [16, 40, 112, 112]   1,080                True\n",
              "│    │    └─BatchNorm2d (1)                                  [16, 40, 112, 112]   [16, 40, 112, 112]   80                   True\n",
              "│    │    └─SiLU (2)                                         [16, 40, 112, 112]   [16, 40, 112, 112]   --                   --\n",
              "│    └─Sequential (1)                                        [16, 40, 112, 112]   [16, 24, 112, 112]   --                   True\n",
              "│    │    └─MBConv (0)                                       [16, 40, 112, 112]   [16, 24, 112, 112]   2,298                True\n",
              "│    │    └─MBConv (1)                                       [16, 24, 112, 112]   [16, 24, 112, 112]   1,206                True\n",
              "│    └─Sequential (2)                                        [16, 24, 112, 112]   [16, 32, 56, 56]     --                   True\n",
              "│    │    └─MBConv (0)                                       [16, 24, 112, 112]   [16, 32, 56, 56]     11,878               True\n",
              "│    │    └─MBConv (1)                                       [16, 32, 56, 56]     [16, 32, 56, 56]     18,120               True\n",
              "│    │    └─MBConv (2)                                       [16, 32, 56, 56]     [16, 32, 56, 56]     18,120               True\n",
              "│    └─Sequential (3)                                        [16, 32, 56, 56]     [16, 48, 28, 28]     --                   True\n",
              "│    │    └─MBConv (0)                                       [16, 32, 56, 56]     [16, 48, 28, 28]     24,296               True\n",
              "│    │    └─MBConv (1)                                       [16, 48, 28, 28]     [16, 48, 28, 28]     43,308               True\n",
              "│    │    └─MBConv (2)                                       [16, 48, 28, 28]     [16, 48, 28, 28]     43,308               True\n",
              "│    └─Sequential (4)                                        [16, 48, 28, 28]     [16, 96, 14, 14]     --                   True\n",
              "│    │    └─MBConv (0)                                       [16, 48, 28, 28]     [16, 96, 14, 14]     52,620               True\n",
              "│    │    └─MBConv (1)                                       [16, 96, 14, 14]     [16, 96, 14, 14]     146,520              True\n",
              "│    │    └─MBConv (2)                                       [16, 96, 14, 14]     [16, 96, 14, 14]     146,520              True\n",
              "│    │    └─MBConv (3)                                       [16, 96, 14, 14]     [16, 96, 14, 14]     146,520              True\n",
              "│    │    └─MBConv (4)                                       [16, 96, 14, 14]     [16, 96, 14, 14]     146,520              True\n",
              "│    └─Sequential (5)                                        [16, 96, 14, 14]     [16, 136, 14, 14]    --                   True\n",
              "│    │    └─MBConv (0)                                       [16, 96, 14, 14]     [16, 136, 14, 14]    178,856              True\n",
              "│    │    └─MBConv (1)                                       [16, 136, 14, 14]    [16, 136, 14, 14]    302,226              True\n",
              "│    │    └─MBConv (2)                                       [16, 136, 14, 14]    [16, 136, 14, 14]    302,226              True\n",
              "│    │    └─MBConv (3)                                       [16, 136, 14, 14]    [16, 136, 14, 14]    302,226              True\n",
              "│    │    └─MBConv (4)                                       [16, 136, 14, 14]    [16, 136, 14, 14]    302,226              True\n",
              "│    └─Sequential (6)                                        [16, 136, 14, 14]    [16, 232, 7, 7]      --                   True\n",
              "│    │    └─MBConv (0)                                       [16, 136, 14, 14]    [16, 232, 7, 7]      380,754              True\n",
              "│    │    └─MBConv (1)                                       [16, 232, 7, 7]      [16, 232, 7, 7]      849,642              True\n",
              "│    │    └─MBConv (2)                                       [16, 232, 7, 7]      [16, 232, 7, 7]      849,642              True\n",
              "│    │    └─MBConv (3)                                       [16, 232, 7, 7]      [16, 232, 7, 7]      849,642              True\n",
              "│    │    └─MBConv (4)                                       [16, 232, 7, 7]      [16, 232, 7, 7]      849,642              True\n",
              "│    │    └─MBConv (5)                                       [16, 232, 7, 7]      [16, 232, 7, 7]      849,642              True\n",
              "│    └─Sequential (7)                                        [16, 232, 7, 7]      [16, 384, 7, 7]      --                   True\n",
              "│    │    └─MBConv (0)                                       [16, 232, 7, 7]      [16, 384, 7, 7]      1,039,258            True\n",
              "│    │    └─MBConv (1)                                       [16, 384, 7, 7]      [16, 384, 7, 7]      2,244,960            True\n",
              "│    └─Conv2dNormActivation (8)                              [16, 384, 7, 7]      [16, 1536, 7, 7]     --                   True\n",
              "│    │    └─Conv2d (0)                                       [16, 384, 7, 7]      [16, 1536, 7, 7]     589,824              True\n",
              "│    │    └─BatchNorm2d (1)                                  [16, 1536, 7, 7]     [16, 1536, 7, 7]     3,072                True\n",
              "│    │    └─SiLU (2)                                         [16, 1536, 7, 7]     [16, 1536, 7, 7]     --                   --\n",
              "├─AdaptiveAvgPool2d (avgpool)                                [16, 1536, 7, 7]     [16, 1536, 1, 1]     --                   --\n",
              "├─Sequential (classifier)                                    [16, 1536]           [16, 7]              --                   True\n",
              "│    └─Linear (0)                                            [16, 1536]           [16, 512]            786,944              True\n",
              "│    └─ReLU (1)                                              [16, 512]            [16, 512]            --                   --\n",
              "│    └─Linear (2)                                            [16, 512]            [16, 128]            65,664               True\n",
              "│    └─ReLU (3)                                              [16, 128]            [16, 128]            --                   --\n",
              "│    └─Linear (4)                                            [16, 128]            [16, 7]              903                  True\n",
              "============================================================================================================================================\n",
              "Total params: 11,549,743\n",
              "Trainable params: 11,549,743\n",
              "Non-trainable params: 0\n",
              "Total mult-adds (G): 15.39\n",
              "============================================================================================================================================\n",
              "Input size (MB): 9.63\n",
              "Forward/backward pass size (MB): 3327.11\n",
              "Params size (MB): 46.20\n",
              "Estimated Total Size (MB): 3382.95\n",
              "============================================================================================================================================"
            ]
          },
          "execution_count": 10,
          "metadata": {},
          "output_type": "execute_result"
        }
      ],
      "source": [
        "from torchinfo import summary\n",
        "summary(model,\n",
        "        input_size=(batch_size, 3, height, width), # make sure this is \"input_size\", not \"input_shape\" (batch_size, color_channels, height, width)\n",
        "        verbose=0,\n",
        "        col_names=[\"input_size\", \"output_size\", \"num_params\", \"trainable\"],\n",
        "        col_width=20,\n",
        "        row_settings=[\"var_names\"]\n",
        ")"
      ]
    },
    {
      "cell_type": "code",
      "execution_count": 11,
      "metadata": {
        "execution": {
          "iopub.execute_input": "2024-10-25T13:15:24.739049Z",
          "iopub.status.busy": "2024-10-25T13:15:24.738405Z",
          "iopub.status.idle": "2024-10-25T13:15:24.750479Z",
          "shell.execute_reply": "2024-10-25T13:15:24.749417Z",
          "shell.execute_reply.started": "2024-10-25T13:15:24.739002Z"
        },
        "id": "MndfeagMIqpT",
        "trusted": true
      },
      "outputs": [],
      "source": [
        "class CustomCallback:\n",
        "    def __init__(self, initial_lr: float, factor: float = 0.04, c_check: bool = False):\n",
        "        self.initial_lr = initial_lr\n",
        "        self.factor = factor\n",
        "        self.c_check = c_check\n",
        "        self.best_loss = float('inf')\n",
        "        self.best_weights = None\n",
        "        self.lr = initial_lr\n",
        "\n",
        "    def on_epoch_end(self, model: torch.nn.Module, val_loss: float, optimizer: torch.optim.Optimizer):\n",
        "        if self.c_check:\n",
        "            if val_loss < self.best_loss:\n",
        "                self.best_loss = val_loss\n",
        "                self.best_weights = model.state_dict()\n",
        "            else:\n",
        "                print(\"Validation loss increased. Resetting model weights and reducing learning rate.\")\n",
        "                model.load_state_dict(self.best_weights)\n",
        "                self.lr *= self.factor\n",
        "                for param_group in optimizer.param_groups:\n",
        "                    param_group['lr'] = self.lr\n",
        "                print(f\"New learning rate: {self.lr}\")\n",
        "        return self.lr\n",
        "\n",
        "    def on_train_end(self, model: torch.nn.Module):\n",
        "        if self.best_weights is not None:\n",
        "            model.load_state_dict(self.best_weights)\n",
        "        return model\n"
      ]
    },
    {
      "cell_type": "code",
      "execution_count": 12,
      "metadata": {
        "execution": {
          "iopub.execute_input": "2024-10-25T13:15:24.752106Z",
          "iopub.status.busy": "2024-10-25T13:15:24.751772Z",
          "iopub.status.idle": "2024-10-25T13:15:24.976760Z",
          "shell.execute_reply": "2024-10-25T13:15:24.975687Z",
          "shell.execute_reply.started": "2024-10-25T13:15:24.752065Z"
        },
        "id": "k_hI7XxNIqpT",
        "trusted": true
      },
      "outputs": [
        {
          "name": "stderr",
          "output_type": "stream",
          "text": [
            "/media/enam/706E574E6E570C6A1/My Projects/skin-cancer-classification/.venv/lib/python3.10/site-packages/tqdm/auto.py:21: TqdmWarning: IProgress not found. Please update jupyter and ipywidgets. See https://ipywidgets.readthedocs.io/en/stable/user_install.html\n",
            "  from .autonotebook import tqdm as notebook_tqdm\n"
          ]
        }
      ],
      "source": [
        "from tqdm.auto import tqdm\n",
        "from typing import Dict, List, Tuple\n",
        "\n",
        "def train_step(model: torch.nn.Module,\n",
        "               dataloader: torch.utils.data.DataLoader,\n",
        "               loss_fn: torch.nn.Module,\n",
        "               optimizer: torch.optim.Optimizer,\n",
        "               device: torch.device) -> Tuple[float, float]:\n",
        "\n",
        "  # Put model in train mode\n",
        "  model.train()\n",
        "\n",
        "  # Setup train loss and train accuracy values\n",
        "  train_loss, train_acc = 0, 0\n",
        "\n",
        "\n",
        "  # Loop through data loader data batches\n",
        "  for batch, (X, y) in enumerate(dataloader):\n",
        "      # Send data to target device\n",
        "      X, y = X.to(device), y.to(device)\n",
        "\n",
        "      # 1. Forward pass\n",
        "      y_pred = model(X)\n",
        "\n",
        "      # 2. Calculate  and accumulate loss\n",
        "      loss = loss_fn(y_pred, y)\n",
        "      train_loss += loss.item()\n",
        "\n",
        "      # 3. Optimizer zero grad\n",
        "      optimizer.zero_grad()\n",
        "\n",
        "      # 4. Loss backward\n",
        "      loss.backward()\n",
        "\n",
        "      # 5. Optimizer step\n",
        "      optimizer.step()\n",
        "\n",
        "      # Calculate and accumulate accuracy metric across all batches\n",
        "      y_pred_class = torch.argmax(torch.softmax(y_pred, dim=1), dim=1)\n",
        "      train_acc += (y_pred_class == y).sum().item()/len(y_pred)\n",
        "\n",
        "  # Adjust metrics to get average loss and accuracy per batch\n",
        "  train_loss = train_loss / len(dataloader)\n",
        "  train_acc = train_acc / len(dataloader)\n",
        "  return train_loss, train_acc\n",
        "\n",
        "def val_step(model: torch.nn.Module,\n",
        "            dataloader: torch.utils.data.DataLoader,\n",
        "            loss_fn: torch.nn.Module,\n",
        "            device: torch.device) -> Tuple[float, float]:\n",
        "\n",
        "  # Put model in eval mode\n",
        "\n",
        "  model.eval()\n",
        "\n",
        "  # Setup test loss and test accuracy values\n",
        "  val_loss, val_acc = 0, 0\n",
        "\n",
        "  # Turn on inference context manager\n",
        "  with torch.inference_mode():\n",
        "      # Loop through DataLoader batches\n",
        "      for batch, (X, y) in enumerate(dataloader):\n",
        "          # Send data to target device\n",
        "          X, y = X.to(device), y.to(device)\n",
        "\n",
        "          # 1. Forward pass\n",
        "          val_pred_logits = model(X)\n",
        "\n",
        "          # 2. Calculate and accumulate loss\n",
        "          loss = loss_fn(val_pred_logits, y)\n",
        "          val_loss += loss.item()\n",
        "\n",
        "          # Calculate and accumulate accuracy\n",
        "          val_pred_labels = val_pred_logits.argmax(dim=1)\n",
        "          val_acc += ((val_pred_labels == y).sum().item()/len(val_pred_labels))\n",
        "\n",
        "  # Adjust metrics to get average loss and accuracy per batch\n",
        "  val_loss = val_loss / len(dataloader)\n",
        "  val_acc = val_acc / len(dataloader)\n",
        "  return val_loss, val_acc\n",
        "\n",
        "\n",
        "def train(model: torch.nn.Module,\n",
        "          train_dataloader: torch.utils.data.DataLoader,\n",
        "          val_dataloader: torch.utils.data.DataLoader,\n",
        "          optimizer: torch.optim.Optimizer,\n",
        "          loss_fn: torch.nn.Module,\n",
        "          epochs: int,\n",
        "          device: torch.device,\n",
        "          callback: CustomCallback) -> Dict[str, List]:\n",
        "\n",
        "  # Create empty results dictionary\n",
        "  results = {\"train_loss\": [],\n",
        "      \"train_acc\": [],\n",
        "      \"val_loss\": [],\n",
        "      \"val_acc\": []\n",
        "  }\n",
        "  scheduler = torch.optim.lr_scheduler.StepLR(optimizer, step_size=3, gamma=0.5)\n",
        "\n",
        "  # Loop through training and testing steps for a number of epochs\n",
        "  for epoch in tqdm(range(epochs)):\n",
        "      train_loss, train_acc = train_step(model=model,\n",
        "                                          dataloader=train_dataloader,\n",
        "                                          loss_fn=loss_fn,\n",
        "                                          optimizer=optimizer,\n",
        "                                          device=device)\n",
        "\n",
        "      val_loss, val_acc = val_step(model=model,\n",
        "          dataloader=val_dataloader,\n",
        "          loss_fn=loss_fn,\n",
        "          device=device)\n",
        "\n",
        "      # Print out what's happening\n",
        "      print(\n",
        "          f\"Epoch: {epoch+1} | \"\n",
        "          f\"train_loss: {train_loss:.4f} | \"\n",
        "          f\"train_acc: {train_acc:.4f} | \"\n",
        "          f\"val_loss: {val_loss:.4f} | \"\n",
        "          f\"val_acc: {val_acc:.4f}\"\n",
        "      )\n",
        "\n",
        "      # Update results dictionary\n",
        "      results[\"train_loss\"].append(train_loss)\n",
        "      results[\"train_acc\"].append(train_acc)\n",
        "      results[\"val_loss\"].append(val_loss)\n",
        "      results[\"val_acc\"].append(val_acc)\n",
        "\n",
        "      # Step the scheduler\n",
        "      scheduler.step()\n",
        "\n",
        "      #new_lr = callback.on_epoch_end(model, val_loss, optimizer)\n",
        "\n",
        "  model = callback.on_train_end(model)\n",
        "\n",
        "  # Return the filled results at the end of the epochs\n",
        "  return results"
      ]
    },
    {
      "cell_type": "code",
      "execution_count": null,
      "metadata": {
        "colab": {
          "base_uri": "https://localhost:8080/",
          "height": 223,
          "referenced_widgets": [
            "6f00fdbc86f443368f7001108e3fb76f",
            "d6a81e346fc14d7dad5894b05aca60a7",
            "62482d34cece4d2a9db53f6d5e047c5b",
            "1ee92c8f057d40fab31dddb3151e220c",
            "19fc9bde258c46f9a812f01903a4ef5e",
            "755ec860bff545dfa1e474555072b820",
            "0f888a45964d4d889838fa2ae7369578",
            "29a4c5903cc2454fb6e1386eb643961b",
            "b3dadac574864a9d81df847d23721259",
            "ce80b9448dd146a2a5d1d1e0519cafff",
            "146bacc9fcdc47ad8565194b4dde8b37"
          ]
        },
        "execution": {
          "iopub.execute_input": "2024-10-25T13:15:24.979079Z",
          "iopub.status.busy": "2024-10-25T13:15:24.978343Z",
          "iopub.status.idle": "2024-10-25T13:47:28.320458Z",
          "shell.execute_reply": "2024-10-25T13:47:28.319331Z",
          "shell.execute_reply.started": "2024-10-25T13:15:24.979032Z"
        },
        "id": "Drf4Q0g8IqpU",
        "outputId": "50f46204-0f64-40ff-ccf6-5b3fddd69252",
        "trusted": true
      },
      "outputs": [],
      "source": [
        "initial_lr = 0.0001\n",
        "weight_decay = 0.0001\n",
        "factor = 0.04\n",
        "c_check = False\n",
        "callback = CustomCallback(initial_lr=initial_lr, factor=factor, c_check=c_check)\n",
        "loss_fn = nn.CrossEntropyLoss()\n",
        "optimizer = torch.optim.Adam(model.parameters(), lr=initial_lr, weight_decay=weight_decay)\n",
        "\n",
        "start_time = timer()\n",
        "# Setup training and save the results\n",
        "results = train(model=model,\n",
        "                       train_dataloader=train_dataloader,\n",
        "                       val_dataloader=val_dataloader,\n",
        "                       optimizer=optimizer,\n",
        "                       loss_fn=loss_fn,\n",
        "                       epochs=8,\n",
        "                       device=device,\n",
        "                       callback=callback)\n",
        "\n",
        "# End the timer and print out how long it took\n",
        "end_time = timer()\n",
        "print(f\"[INFO] Total training time: {end_time-start_time:.3f} seconds\")"
      ]
    },
    {
      "cell_type": "code",
      "execution_count": null,
      "metadata": {
        "execution": {
          "iopub.execute_input": "2024-10-25T13:47:28.322802Z",
          "iopub.status.busy": "2024-10-25T13:47:28.322030Z",
          "iopub.status.idle": "2024-10-25T13:47:28.646947Z",
          "shell.execute_reply": "2024-10-25T13:47:28.646149Z",
          "shell.execute_reply.started": "2024-10-25T13:47:28.322763Z"
        },
        "id": "IEPd11g-ySQE",
        "trusted": true
      },
      "outputs": [],
      "source": [
        "torch.save(model.state_dict(), 'efficientnetb3_model.pth')"
      ]
    },
    {
      "cell_type": "code",
      "execution_count": null,
      "metadata": {
        "colab": {
          "base_uri": "https://localhost:8080/",
          "height": 866
        },
        "execution": {
          "iopub.execute_input": "2024-10-25T13:47:28.649038Z",
          "iopub.status.busy": "2024-10-25T13:47:28.648658Z",
          "iopub.status.idle": "2024-10-25T13:47:38.750056Z",
          "shell.execute_reply": "2024-10-25T13:47:38.748772Z",
          "shell.execute_reply.started": "2024-10-25T13:47:28.648996Z"
        },
        "id": "4FpdalWFQsAM",
        "outputId": "807bf791-6836-4ec3-f403-511c4526fa69",
        "trusted": true
      },
      "outputs": [
        {
          "name": "stdout",
          "output_type": "stream",
          "text": [
            "Test Loss: 0.5132\n",
            "Overall Accuracy: 0.8698\n",
            "Macro Accuracy: 0.7810\n",
            "Weighted Accuracy: 0.8698\n",
            "AUC: 0.8757\n",
            "Sensitivity (Recall): 0.7810\n",
            "Specificity (Precision): 0.8340\n",
            "\n",
            "Classification Report:\n",
            "               precision    recall  f1-score   support\n",
            "\n",
            "           0       0.75      0.59      0.66        66\n",
            "           1       0.78      0.92      0.84       103\n",
            "           2       0.79      0.77      0.78       220\n",
            "           3       1.00      0.61      0.76        23\n",
            "           4       0.61      0.76      0.68       223\n",
            "           5       0.95      0.92      0.93      1341\n",
            "           6       0.96      0.90      0.93        29\n",
            "\n",
            "    accuracy                           0.87      2005\n",
            "   macro avg       0.83      0.78      0.80      2005\n",
            "weighted avg       0.88      0.87      0.87      2005\n",
            "\n"
          ]
        },
        {
          "data": {
            "text/plain": [
              "<sklearn.metrics._plot.confusion_matrix.ConfusionMatrixDisplay at 0x78a340d5aad0>"
            ]
          },
          "execution_count": 18,
          "metadata": {},
          "output_type": "execute_result"
        },
        {
          "data": {
            "image/png": "[encoded data removed]",
            "text/plain": [
              "<Figure size 640x480 with 2 Axes>"
            ]
          },
          "metadata": {},
          "output_type": "display_data"
        }
      ],
      "source": [
        "from sklearn.metrics import (\n",
        "    confusion_matrix,\n",
        "    ConfusionMatrixDisplay,\n",
        "    classification_report,\n",
        "    accuracy_score,\n",
        "    roc_auc_score,\n",
        "    recall_score,\n",
        "    precision_score\n",
        ")\n",
        "from sklearn.preprocessing import label_binarize\n",
        "import numpy as np\n",
        "\n",
        "model.eval()\n",
        "\n",
        "# Initialize test loss and accuracy metrics\n",
        "test_loss, test_acc = 0, 0\n",
        "all_preds = []\n",
        "all_labels = []\n",
        "\n",
        "# Turn on inference context manager\n",
        "with torch.inference_mode():\n",
        "    # Loop through DataLoader batches\n",
        "    for batch, (X, y) in enumerate(test_dataloader):\n",
        "        # Send data to target device\n",
        "        X, y = X.to(device), y.to(device)\n",
        "\n",
        "        # 1. Forward pass\n",
        "        test_pred_logits = model(X)\n",
        "\n",
        "        # 2. Calculate and accumulate loss\n",
        "        loss = loss_fn(test_pred_logits, y)\n",
        "        test_loss += loss.item()\n",
        "\n",
        "        # Calculate and accumulate accuracy\n",
        "        test_pred_labels = test_pred_logits.argmax(dim=1)\n",
        "        test_acc += (test_pred_labels == y).sum().item() / len(test_pred_labels)\n",
        "\n",
        "        # Store predictions and labels for later metric calculations\n",
        "        all_preds.extend(test_pred_labels.cpu().numpy())\n",
        "        all_labels.extend(y.cpu().numpy())\n",
        "\n",
        "# Average test loss and accuracy\n",
        "test_loss = test_loss / len(test_dataloader)\n",
        "test_acc = test_acc / len(test_dataloader)\n",
        "\n",
        "# Calculate overall accuracy\n",
        "overall_accuracy = accuracy_score(all_labels, all_preds)\n",
        "\n",
        "# Calculate macro and weighted accuracy\n",
        "macro_accuracy = recall_score(all_labels, all_preds, average=\"macro\")\n",
        "weighted_accuracy = recall_score(all_labels, all_preds, average=\"weighted\")\n",
        "\n",
        "# Calculate AUC score (multi-class handling with one-vs-rest if needed)\n",
        "num_classes = len(np.unique(all_labels))\n",
        "if num_classes > 2:\n",
        "    all_labels_bin = label_binarize(all_labels, classes=np.arange(num_classes))\n",
        "    all_preds_bin = label_binarize(all_preds, classes=np.arange(num_classes))\n",
        "    auc = roc_auc_score(all_labels_bin, all_preds_bin, average=\"macro\", multi_class=\"ovr\")\n",
        "else:\n",
        "    auc = roc_auc_score(all_labels, all_preds)\n",
        "\n",
        "# Calculate sensitivity (recall) and specificity (precision)\n",
        "sensitivity = recall_score(all_labels, all_preds, average=\"macro\")\n",
        "specificity = precision_score(all_labels, all_preds, average=\"macro\")\n",
        "\n",
        "# Confusion matrix and classification report\n",
        "conf_matrix = confusion_matrix(all_labels, all_preds)\n",
        "conf_matrix_display = ConfusionMatrixDisplay(conf_matrix)\n",
        "classification_rep = classification_report(all_labels, all_preds)\n",
        "\n",
        "# Display test loss, accuracy, and other metrics\n",
        "print(f\"Test Loss: {test_loss:.4f}\")\n",
        "print(f\"Overall Accuracy: {overall_accuracy:.4f}\")\n",
        "print(f\"Macro Accuracy: {macro_accuracy:.4f}\")\n",
        "print(f\"Weighted Accuracy: {weighted_accuracy:.4f}\")\n",
        "print(f\"AUC: {auc:.4f}\")\n",
        "print(f\"Sensitivity (Recall): {sensitivity:.4f}\")\n",
        "print(f\"Specificity (Precision): {specificity:.4f}\")\n",
        "print(\"\\nClassification Report:\\n\", classification_rep)\n",
        "\n",
        "# Display confusion matrix\n",
        "conf_matrix_display.plot()\n"
      ]
    },
    {
      "cell_type": "code",
      "execution_count": null,
      "metadata": {
        "colab": {
          "base_uri": "https://localhost:8080/",
          "height": 587
        },
        "execution": {
          "iopub.execute_input": "2024-10-25T13:47:38.753539Z",
          "iopub.status.busy": "2024-10-25T13:47:38.752510Z",
          "iopub.status.idle": "2024-10-25T13:47:39.441808Z",
          "shell.execute_reply": "2024-10-25T13:47:39.440886Z",
          "shell.execute_reply.started": "2024-10-25T13:47:38.753501Z"
        },
        "id": "_-pkaqZuPIlj",
        "outputId": "9e6870cc-c20d-42f4-d3a3-cdc74e655882",
        "trusted": true
      },
      "outputs": [
        {
          "data": {
            "image/png": "[encoded data removed]",
            "text/plain": [
              "<Figure size 1200x600 with 2 Axes>"
            ]
          },
          "metadata": {},
          "output_type": "display_data"
        }
      ],
      "source": [
        "def plot_learning_curves(results):\n",
        "    # Extracting loss and accuracy values from results\n",
        "    loss = results['train_loss']\n",
        "    val_loss = results['val_loss']\n",
        "    accuracy = results['train_acc']\n",
        "    val_accuracy = results['val_acc']\n",
        "\n",
        "    # Plotting loss\n",
        "    plt.figure(figsize=(12, 6))\n",
        "    plt.subplot(1, 2, 1)\n",
        "    plt.plot(loss, label='Training Loss')\n",
        "    plt.plot(val_loss, label='Validation Loss')\n",
        "    plt.title('Training and Validation Loss')\n",
        "    plt.xlabel('Epoch')\n",
        "    plt.ylabel('Loss')\n",
        "    plt.legend()\n",
        "\n",
        "    # Plotting accuracy\n",
        "    plt.subplot(1, 2, 2)\n",
        "    plt.plot(accuracy, label='Training Accuracy')\n",
        "    plt.plot(val_accuracy, label='Validation Accuracy')\n",
        "    plt.title('Training and Validation Accuracy')\n",
        "    plt.xlabel('Epoch')\n",
        "    plt.ylabel('Accuracy')\n",
        "    plt.legend()\n",
        "\n",
        "    plt.tight_layout()\n",
        "    plt.show()\n",
        "\n",
        "plot_learning_curves(results)\n"
      ]
    },
    {
      "cell_type": "code",
      "execution_count": null,
      "metadata": {
        "colab": {
          "base_uri": "https://localhost:8080/",
          "height": 472
        },
        "execution": {
          "iopub.execute_input": "2024-10-25T13:47:39.443350Z",
          "iopub.status.busy": "2024-10-25T13:47:39.443022Z",
          "iopub.status.idle": "2024-10-25T13:47:39.769755Z",
          "shell.execute_reply": "2024-10-25T13:47:39.768784Z",
          "shell.execute_reply.started": "2024-10-25T13:47:39.443316Z"
        },
        "id": "jCOHFhM6L4Ly",
        "outputId": "8068261a-7e43-4871-a09a-33898e414989",
        "trusted": true
      },
      "outputs": [
        {
          "data": {
            "image/png": "[encoded data removed]",
            "text/plain": [
              "<Figure size 640x480 with 2 Axes>"
            ]
          },
          "metadata": {},
          "output_type": "display_data"
        }
      ],
      "source": [
        "# Compute and plot confusion matrix\n",
        "from sklearn.metrics import confusion_matrix, ConfusionMatrixDisplay\n",
        "cm = confusion_matrix(all_labels, all_preds)\n",
        "disp = ConfusionMatrixDisplay(confusion_matrix=cm, display_labels=np.unique(all_labels))\n",
        "disp.plot(cmap=plt.cm.Blues)\n",
        "\n",
        "plt.title(\"Confusion Matrix\")\n",
        "plt.show()"
      ]
    }
  ],
  "metadata": {
    "accelerator": "GPU",
    "colab": {
      "gpuType": "T4",
      "provenance": []
    },
    "kaggle": {
      "accelerator": "gpu",
      "dataSources": [
        {
          "datasetId": 752995,
          "sourceId": 1301322,
          "sourceType": "datasetVersion"
        },
        {
          "datasetId": 54339,
          "sourceId": 104884,
          "sourceType": "datasetVersion"
        }
      ],
      "dockerImageVersionId": 30787,
      "isGpuEnabled": true,
      "isInternetEnabled": true,
      "language": "python",
      "sourceType": "notebook"
    },
    "kernelspec": {
      "display_name": ".venv",
      "language": "python",
      "name": "python3"
    },
    "language_info": {
      "codemirror_mode": {
        "name": "ipython",
        "version": 3
      },
      "file_extension": ".py",
      "mimetype": "text/x-python",
      "name": "python",
      "nbconvert_exporter": "python",
      "pygments_lexer": "ipython3",
      "version": "3.10.12"
    },
    "widgets": {
      "application/vnd.jupyter.widget-state+json": {
        "0f888a45964d4d889838fa2ae7369578": {
          "model_module": "@jupyter-widgets/controls",
          "model_module_version": "1.5.0",
          "model_name": "DescriptionStyleModel",
          "state": {
            "_model_module": "@jupyter-widgets/controls",
            "_model_module_version": "1.5.0",
            "_model_name": "DescriptionStyleModel",
            "_view_count": null,
            "_view_module": "@jupyter-widgets/base",
            "_view_module_version": "1.2.0",
            "_view_name": "StyleView",
            "description_width": ""
          }
        },
        "146bacc9fcdc47ad8565194b4dde8b37": {
          "model_module": "@jupyter-widgets/controls",
          "model_module_version": "1.5.0",
          "model_name": "DescriptionStyleModel",
          "state": {
            "_model_module": "@jupyter-widgets/controls",
            "_model_module_version": "1.5.0",
            "_model_name": "DescriptionStyleModel",
            "_view_count": null,
            "_view_module": "@jupyter-widgets/base",
            "_view_module_version": "1.2.0",
            "_view_name": "StyleView",
            "description_width": ""
          }
        },
        "19fc9bde258c46f9a812f01903a4ef5e": {
          "model_module": "@jupyter-widgets/base",
          "model_module_version": "1.2.0",
          "model_name": "LayoutModel",
          "state": {
            "_model_module": "@jupyter-widgets/base",
            "_model_module_version": "1.2.0",
            "_model_name": "LayoutModel",
            "_view_count": null,
            "_view_module": "@jupyter-widgets/base",
            "_view_module_version": "1.2.0",
            "_view_name": "LayoutView",
            "align_content": null,
            "align_items": null,
            "align_self": null,
            "border": null,
            "bottom": null,
            "display": null,
            "flex": null,
            "flex_flow": null,
            "grid_area": null,
            "grid_auto_columns": null,
            "grid_auto_flow": null,
            "grid_auto_rows": null,
            "grid_column": null,
            "grid_gap": null,
            "grid_row": null,
            "grid_template_areas": null,
            "grid_template_columns": null,
            "grid_template_rows": null,
            "height": null,
            "justify_content": null,
            "justify_items": null,
            "left": null,
            "margin": null,
            "max_height": null,
            "max_width": null,
            "min_height": null,
            "min_width": null,
            "object_fit": null,
            "object_position": null,
            "order": null,
            "overflow": null,
            "overflow_x": null,
            "overflow_y": null,
            "padding": null,
            "right": null,
            "top": null,
            "visibility": null,
            "width": null
          }
        },
        "1ee92c8f057d40fab31dddb3151e220c": {
          "model_module": "@jupyter-widgets/controls",
          "model_module_version": "1.5.0",
          "model_name": "HTMLModel",
          "state": {
            "_dom_classes": [],
            "_model_module": "@jupyter-widgets/controls",
            "_model_module_version": "1.5.0",
            "_model_name": "HTMLModel",
            "_view_count": null,
            "_view_module": "@jupyter-widgets/controls",
            "_view_module_version": "1.5.0",
            "_view_name": "HTMLView",
            "description": "",
            "description_tooltip": null,
            "layout": "IPY_MODEL_ce80b9448dd146a2a5d1d1e0519cafff",
            "placeholder": "​",
            "style": "IPY_MODEL_146bacc9fcdc47ad8565194b4dde8b37",
            "value": " 9/9 [27:11&lt;00:00, 180.39s/it]"
          }
        },
        "29a4c5903cc2454fb6e1386eb643961b": {
          "model_module": "@jupyter-widgets/base",
          "model_module_version": "1.2.0",
          "model_name": "LayoutModel",
          "state": {
            "_model_module": "@jupyter-widgets/base",
            "_model_module_version": "1.2.0",
            "_model_name": "LayoutModel",
            "_view_count": null,
            "_view_module": "@jupyter-widgets/base",
            "_view_module_version": "1.2.0",
            "_view_name": "LayoutView",
            "align_content": null,
            "align_items": null,
            "align_self": null,
            "border": null,
            "bottom": null,
            "display": null,
            "flex": null,
            "flex_flow": null,
            "grid_area": null,
            "grid_auto_columns": null,
            "grid_auto_flow": null,
            "grid_auto_rows": null,
            "grid_column": null,
            "grid_gap": null,
            "grid_row": null,
            "grid_template_areas": null,
            "grid_template_columns": null,
            "grid_template_rows": null,
            "height": null,
            "justify_content": null,
            "justify_items": null,
            "left": null,
            "margin": null,
            "max_height": null,
            "max_width": null,
            "min_height": null,
            "min_width": null,
            "object_fit": null,
            "object_position": null,
            "order": null,
            "overflow": null,
            "overflow_x": null,
            "overflow_y": null,
            "padding": null,
            "right": null,
            "top": null,
            "visibility": null,
            "width": null
          }
        },
        "62482d34cece4d2a9db53f6d5e047c5b": {
          "model_module": "@jupyter-widgets/controls",
          "model_module_version": "1.5.0",
          "model_name": "FloatProgressModel",
          "state": {
            "_dom_classes": [],
            "_model_module": "@jupyter-widgets/controls",
            "_model_module_version": "1.5.0",
            "_model_name": "FloatProgressModel",
            "_view_count": null,
            "_view_module": "@jupyter-widgets/controls",
            "_view_module_version": "1.5.0",
            "_view_name": "ProgressView",
            "bar_style": "success",
            "description": "",
            "description_tooltip": null,
            "layout": "IPY_MODEL_29a4c5903cc2454fb6e1386eb643961b",
            "max": 9,
            "min": 0,
            "orientation": "horizontal",
            "style": "IPY_MODEL_b3dadac574864a9d81df847d23721259",
            "value": 9
          }
        },
        "6f00fdbc86f443368f7001108e3fb76f": {
          "model_module": "@jupyter-widgets/controls",
          "model_module_version": "1.5.0",
          "model_name": "HBoxModel",
          "state": {
            "_dom_classes": [],
            "_model_module": "@jupyter-widgets/controls",
            "_model_module_version": "1.5.0",
            "_model_name": "HBoxModel",
            "_view_count": null,
            "_view_module": "@jupyter-widgets/controls",
            "_view_module_version": "1.5.0",
            "_view_name": "HBoxView",
            "box_style": "",
            "children": [
              "IPY_MODEL_d6a81e346fc14d7dad5894b05aca60a7",
              "IPY_MODEL_62482d34cece4d2a9db53f6d5e047c5b",
              "IPY_MODEL_1ee92c8f057d40fab31dddb3151e220c"
            ],
            "layout": "IPY_MODEL_19fc9bde258c46f9a812f01903a4ef5e"
          }
        },
        "755ec860bff545dfa1e474555072b820": {
          "model_module": "@jupyter-widgets/base",
          "model_module_version": "1.2.0",
          "model_name": "LayoutModel",
          "state": {
            "_model_module": "@jupyter-widgets/base",
            "_model_module_version": "1.2.0",
            "_model_name": "LayoutModel",
            "_view_count": null,
            "_view_module": "@jupyter-widgets/base",
            "_view_module_version": "1.2.0",
            "_view_name": "LayoutView",
            "align_content": null,
            "align_items": null,
            "align_self": null,
            "border": null,
            "bottom": null,
            "display": null,
            "flex": null,
            "flex_flow": null,
            "grid_area": null,
            "grid_auto_columns": null,
            "grid_auto_flow": null,
            "grid_auto_rows": null,
            "grid_column": null,
            "grid_gap": null,
            "grid_row": null,
            "grid_template_areas": null,
            "grid_template_columns": null,
            "grid_template_rows": null,
            "height": null,
            "justify_content": null,
            "justify_items": null,
            "left": null,
            "margin": null,
            "max_height": null,
            "max_width": null,
            "min_height": null,
            "min_width": null,
            "object_fit": null,
            "object_position": null,
            "order": null,
            "overflow": null,
            "overflow_x": null,
            "overflow_y": null,
            "padding": null,
            "right": null,
            "top": null,
            "visibility": null,
            "width": null
          }
        },
        "b3dadac574864a9d81df847d23721259": {
          "model_module": "@jupyter-widgets/controls",
          "model_module_version": "1.5.0",
          "model_name": "ProgressStyleModel",
          "state": {
            "_model_module": "@jupyter-widgets/controls",
            "_model_module_version": "1.5.0",
            "_model_name": "ProgressStyleModel",
            "_view_count": null,
            "_view_module": "@jupyter-widgets/base",
            "_view_module_version": "1.2.0",
            "_view_name": "StyleView",
            "bar_color": null,
            "description_width": ""
          }
        },
        "ce80b9448dd146a2a5d1d1e0519cafff": {
          "model_module": "@jupyter-widgets/base",
          "model_module_version": "1.2.0",
          "model_name": "LayoutModel",
          "state": {
            "_model_module": "@jupyter-widgets/base",
            "_model_module_version": "1.2.0",
            "_model_name": "LayoutModel",
            "_view_count": null,
            "_view_module": "@jupyter-widgets/base",
            "_view_module_version": "1.2.0",
            "_view_name": "LayoutView",
            "align_content": null,
            "align_items": null,
            "align_self": null,
            "border": null,
            "bottom": null,
            "display": null,
            "flex": null,
            "flex_flow": null,
            "grid_area": null,
            "grid_auto_columns": null,
            "grid_auto_flow": null,
            "grid_auto_rows": null,
            "grid_column": null,
            "grid_gap": null,
            "grid_row": null,
            "grid_template_areas": null,
            "grid_template_columns": null,
            "grid_template_rows": null,
            "height": null,
            "justify_content": null,
            "justify_items": null,
            "left": null,
            "margin": null,
            "max_height": null,
            "max_width": null,
            "min_height": null,
            "min_width": null,
            "object_fit": null,
            "object_position": null,
            "order": null,
            "overflow": null,
            "overflow_x": null,
            "overflow_y": null,
            "padding": null,
            "right": null,
            "top": null,
            "visibility": null,
            "width": null
          }
        },
        "d6a81e346fc14d7dad5894b05aca60a7": {
          "model_module": "@jupyter-widgets/controls",
          "model_module_version": "1.5.0",
          "model_name": "HTMLModel",
          "state": {
            "_dom_classes": [],
            "_model_module": "@jupyter-widgets/controls",
            "_model_module_version": "1.5.0",
            "_model_name": "HTMLModel",
            "_view_count": null,
            "_view_module": "@jupyter-widgets/controls",
            "_view_module_version": "1.5.0",
            "_view_name": "HTMLView",
            "description": "",
            "description_tooltip": null,
            "layout": "IPY_MODEL_755ec860bff545dfa1e474555072b820",
            "placeholder": "​",
            "style": "IPY_MODEL_0f888a45964d4d889838fa2ae7369578",
            "value": "100%"
          }
        }
      }
    }
  },
  "nbformat": 4,
  "nbformat_minor": 0
}
